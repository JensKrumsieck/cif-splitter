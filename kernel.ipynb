{
 "cells": [
  {
   "cell_type": "code",
   "execution_count": null,
   "metadata": {},
   "outputs": [],
   "source": [
    "import numpy as np\n",
    "import pandas as pd\n",
    "from data import constants\n",
    "from mathutil import comp, percentage\n",
    "from plotutil import periodictable"
   ]
  },
  {
   "cell_type": "code",
   "execution_count": null,
   "metadata": {},
   "outputs": [],
   "source": [
    "df = pd.read_excel(r\"C:\\Users\\jenso\\PowerFolders\\Forschung\\CSD Data Mining\\Results.xlsx\")\n",
    "df.replace(r'^\\s*$', np.nan, regex=True, inplace=True)\n",
    "dataset = df.loc[(df[\"Type\"] == \"Corrole\") & (df[\"Class\"] == \"Corrole\")]\n",
    "dataset.reset_index(drop=True, inplace=True)\n",
    "dataset = percentage.createPercData(dataset)\n",
    "dataset = comp.createCompData(dataset)\n",
    "dataset = percentage.createCompPercData(dataset)\n",
    "# dataset[\"dominant\"] = dataset[constants.compColumns].idxmax(axis=1)\n",
    "len(dataset)"
   ]
  },
  {
   "cell_type": "code",
   "execution_count": null,
   "metadata": {},
   "outputs": [],
   "source": [
    "from matplotlib import pyplot as plt\n",
    "from plotutil.misc import cm_to_inch\n",
    "import matplotlib\n",
    "! pip install SciencePlots\n",
    "! pip install natsort\n",
    "from natsort import index_natsorted"
   ]
  },
  {
   "cell_type": "code",
   "execution_count": null,
   "metadata": {},
   "outputs": [],
   "source": [
    "plt.style.use(['science', 'nature', 'no-latex'])\n",
    "plt.rcParams[\"figure.figsize\"] = (cm_to_inch(16), cm_to_inch(13))\n",
    "plt.rcParams[\"figure.dpi\"] = 1200\n",
    "plt.rcParams[\"axes.labelsize\"] = 11\n",
    "plt.rcParams[\"axes.titlesize\"] = 9\n",
    "plt.rcParams[\"xtick.labelsize\"] = 9\n",
    "plt.rcParams[\"ytick.labelsize\"] = 9\n",
    "plt.rcParams[\"font.family\"] = \"Arial\""
   ]
  },
  {
   "cell_type": "code",
   "execution_count": null,
   "metadata": {},
   "outputs": [],
   "source": [
    "! pip install plotnine\n",
    "! pip install natsort\n",
    "! pip install -U kaleido\n",
    "! pip install plotly\n",
    "\n",
    "import plotly.express as px\n",
    "from natsort import index_natsorted\n",
    "import plotly.express as px\n",
    "from plotnine import *\n",
    "import plotly.io as pio\n",
    "import plotly\n",
    "plotly.__version__ #5.6.0\n",
    "import kaleido #required\n",
    "kaleido.__version__ #0.2.1"
   ]
  },
  {
   "cell_type": "code",
   "execution_count": null,
   "metadata": {},
   "outputs": [],
   "source": [
    "mode = \"Saddling\"\n",
    "dataset[\"y\"] = dataset[mode+\"2\"] * np.sign(dataset[mode+\"1\"])\n",
    "dataset[\"x\"] = np.abs(dataset[mode+\"1\"])\n",
    "from plotutil import ridgeline\n",
    "m3d = periodictable.m3d.copy()\n",
    "groups = [\"1\",\"2\",\"3\",\"4\",\"5\",\"6\",\"7\",\"8\",\"9\",\"10\",\"11\",\"12\",\"13\",\"14\",\"15\",\"Ln\"]\n",
    "ridgeline.plot(dataset, m3d, \"Metal\", \"x\", f\"|{mode}1|\", (-.1,3), (0,4), constants.colors_min + constants.colors_ext + constants.colors_min)\n",
    "# len(dataset[dataset[\"Metal\"] == \"Cu\"])"
   ]
  },
  {
   "cell_type": "code",
   "execution_count": null,
   "metadata": {},
   "outputs": [],
   "source": [
    "dataset[\"M2N4\"] = np.abs(dataset[\"MetalToN4\"])\n",
    "ridgeline.plot(dataset, m3d, \"Metal\", \"M2N4\", f\"MetalToN4\", (-.1,3), (0,4), constants.colors_min + constants.colors_ext + constants.colors_min)"
   ]
  }
 ],
 "metadata": {
  "kernelspec": {
   "display_name": "Python 3.9.7 ('base')",
   "language": "python",
   "name": "python3"
  },
  "language_info": {
   "codemirror_mode": {
    "name": "ipython",
    "version": 3
   },
   "file_extension": ".py",
   "mimetype": "text/x-python",
   "name": "python",
   "nbconvert_exporter": "python",
   "pygments_lexer": "ipython3",
   "version": "3.9.7"
  },
  "orig_nbformat": 4,
  "vscode": {
   "interpreter": {
    "hash": "ad2bdc8ecc057115af97d19610ffacc2b4e99fae6737bb82f5d7fb13d2f2c186"
   }
  }
 },
 "nbformat": 4,
 "nbformat_minor": 2
}
