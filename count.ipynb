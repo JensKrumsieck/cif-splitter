{
 "cells": [
  {
   "cell_type": "code",
   "execution_count": 25,
   "metadata": {},
   "outputs": [],
   "source": [
    "import pandas as pd\n",
    "df = pd.read_excel(r\"C:\\Users\\jenso\\PowerFolders\\Forschung\\CSD Data Mining\\Results.xlsx\")\n",
    "df.fillna(\"\", inplace=True)\n",
    "cr_bro = pd.read_excel(r\"C:\\Users\\jenso\\PowerFolders\\Forschung\\CSD Data Mining - Chromyl\\Results.xlsx\")\n",
    "df = pd.concat([df, cr_bro])"
   ]
  },
  {
   "cell_type": "code",
   "execution_count": 26,
   "metadata": {},
   "outputs": [
    {
     "data": {
      "text/plain": [
       "1083"
      ]
     },
     "execution_count": 26,
     "metadata": {},
     "output_type": "execute_result"
    }
   ],
   "source": [
    "corroles = df.loc[df[\"Type\"] == \"Corrole\"]\n",
    "len(corroles)"
   ]
  },
  {
   "cell_type": "code",
   "execution_count": 27,
   "metadata": {},
   "outputs": [
    {
     "name": "stdout",
     "output_type": "stream",
     "text": [
      "Corroles: 872\n",
      "Isocorroles: 59\n",
      "Heterocorroles: 64\n",
      "NConfused corroles: 28\n",
      "NAlkyl corroles: 30\n",
      "Corrolazines: 30\n"
     ]
    }
   ],
   "source": [
    "normal = corroles.loc[corroles[\"Class\"] == \"Corrole\"]\n",
    "iso  = corroles.loc[corroles[\"Class\"] == \"Isocorrole\"]\n",
    "hetero =  corroles.loc[corroles[\"Class\"] == \"Heterocorrole\"]\n",
    "nconf = corroles.loc[corroles[\"Class\"] == \"NConfused-Corrole\"]\n",
    "nalk = corroles.loc[corroles[\"Class\"] == \"NR-Corrole\"]\n",
    "corrolazines = corroles.loc[corroles[\"Class\"] == \"Corrolazine\"]\n",
    "\n",
    "print(\"Corroles: \" + str(len(normal)))\n",
    "print(\"Isocorroles: \" + str(len(iso)))\n",
    "print(\"Heterocorroles: \" + str(len(hetero)))\n",
    "print(\"NConfused corroles: \" + str(len(nconf)))\n",
    "print(\"NAlkyl corroles: \" + str(len(nalk)))\n",
    "print(\"Corrolazines: \" + str(len(corrolazines)))"
   ]
  },
  {
   "cell_type": "code",
   "execution_count": 28,
   "metadata": {},
   "outputs": [
    {
     "data": {
      "text/plain": [
       "83"
      ]
     },
     "execution_count": 28,
     "metadata": {},
     "output_type": "execute_result"
    }
   ],
   "source": [
    "nor = df.loc[(df[\"Type\"] == \"Norcorrole\") & (df[\"Class\"] != \"Corrole\")] # there are C60 rings detected as nor in corroles\n",
    "len(nor)"
   ]
  },
  {
   "cell_type": "code",
   "execution_count": 29,
   "metadata": {},
   "outputs": [
    {
     "data": {
      "text/plain": [
       "143"
      ]
     },
     "execution_count": 29,
     "metadata": {},
     "output_type": "execute_result"
    }
   ],
   "source": [
    "porphycene = df.loc[df[\"Type\"] == \"Porphycene\"]\n",
    "len(porphycene)"
   ]
  },
  {
   "cell_type": "code",
   "execution_count": 30,
   "metadata": {},
   "outputs": [
    {
     "data": {
      "text/plain": [
       "24"
      ]
     },
     "execution_count": 30,
     "metadata": {},
     "output_type": "execute_result"
    }
   ],
   "source": [
    "corrphycene = df.loc[df[\"Type\"] == \"Corrphycene\"]\n",
    "len(corrphycene)"
   ]
  },
  {
   "cell_type": "code",
   "execution_count": 31,
   "metadata": {},
   "outputs": [
    {
     "data": {
      "text/plain": [
       "1333"
      ]
     },
     "execution_count": 31,
     "metadata": {},
     "output_type": "execute_result"
    }
   ],
   "source": [
    "len(corroles) + len(nor) + len(porphycene) + len(corrphycene)"
   ]
  }
 ],
 "metadata": {
  "kernelspec": {
   "display_name": "Python 3.9.7 ('base')",
   "language": "python",
   "name": "python3"
  },
  "language_info": {
   "codemirror_mode": {
    "name": "ipython",
    "version": 3
   },
   "file_extension": ".py",
   "mimetype": "text/x-python",
   "name": "python",
   "nbconvert_exporter": "python",
   "pygments_lexer": "ipython3",
   "version": "3.9.7"
  },
  "orig_nbformat": 4,
  "vscode": {
   "interpreter": {
    "hash": "ad2bdc8ecc057115af97d19610ffacc2b4e99fae6737bb82f5d7fb13d2f2c186"
   }
  }
 },
 "nbformat": 4,
 "nbformat_minor": 2
}
