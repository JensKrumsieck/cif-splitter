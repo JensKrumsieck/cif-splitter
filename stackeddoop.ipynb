{
 "cells": [
  {
   "cell_type": "code",
   "execution_count": null,
   "metadata": {},
   "outputs": [],
   "source": [
    "import pandas as pd\n",
    "from data import constants\n",
    "from mathutil import comp, percentage, analyze\n",
    "from plotutil import stackedbar\n"
   ]
  },
  {
   "cell_type": "code",
   "execution_count": null,
   "metadata": {},
   "outputs": [],
   "source": [
    "df = pd.read_excel(r\"C:\\Users\\jenso\\PowerFolders\\Forschung\\CSD Data Mining\\Results.xlsx\")\n",
    "df.fillna(\"\", inplace=True)\n",
    "cr_bro = pd.read_excel(r\"C:\\Users\\jenso\\PowerFolders\\Forschung\\CSD Data Mining - Chromyl\\Results.xlsx\")\n",
    "df = pd.concat([df, cr_bro])\n",
    "# dataset = df.loc[(df[\"Type\"] == \"Corrphycene\")]# & (df[\"Class\"] != \"Corrole\")]\n",
    "dataset = df.loc[(df[\"Type\"] !=  \"Porphyrin\")]\n",
    "dataset.reset_index(drop=True, inplace=True)\n",
    "dataset = percentage.createPercData(dataset)\n",
    "dataset = comp.createCompData(dataset)\n",
    "dataset = percentage.createCompPercData(dataset)\n",
    "dataset = comp.createSumData(dataset)\n",
    "dataset = percentage.createSumPercData(dataset)\n",
    "dataset[\"dominant\"] = dataset[constants.compColumns].idxmax(axis=1)\n",
    "len(dataset)"
   ]
  },
  {
   "cell_type": "code",
   "execution_count": null,
   "metadata": {},
   "outputs": [],
   "source": [
    "from matplotlib import pyplot as plt\n",
    "from plotutil.misc import cm_to_inch\n",
    "! pip install SciencePlots"
   ]
  },
  {
   "cell_type": "code",
   "execution_count": null,
   "metadata": {},
   "outputs": [],
   "source": [
    "plt.style.use(['science', 'nature', 'no-latex'])\n",
    "plt.rcParams[\"figure.figsize\"] = (cm_to_inch(16), cm_to_inch(13))\n",
    "plt.rcParams[\"figure.dpi\"] = 1200\n",
    "plt.rcParams[\"axes.labelsize\"] = 11\n",
    "plt.rcParams[\"axes.titlesize\"] = 9\n",
    "plt.rcParams[\"xtick.labelsize\"] = 9\n",
    "plt.rcParams[\"ytick.labelsize\"] = 9\n",
    "plt.rcParams[\"font.family\"] = \"Arial\"\n"
   ]
  },
  {
   "cell_type": "code",
   "execution_count": null,
   "metadata": {},
   "outputs": [],
   "source": [
    "# range = [.3,.5,.7,.8,.9, 1, 1.2, 1.8, 1000]\n",
    "range = [.5,1, 1.5, 2, 3, 1000]\n",
    "cols = constants.percSumColumns\n",
    "bins = analyze.fieldAnalysis(dataset, range, cols, \"DoopExp\")\n",
    "stackedbar.plot_doop(bins, range, cols)"
   ]
  },
  {
   "cell_type": "code",
   "execution_count": null,
   "metadata": {},
   "outputs": [],
   "source": [
    "metals = [\"B\", \"Al\", \"Ga\", \"In\", \"Tl\", \"Si\", \"Ge\", \"Sn\", \"Pb\", \"P\", \"As\", \"Sb\", \"Bi\"]\n",
    "hg = dataset.loc[dataset[\"Metal\"].isin(metals)]\n",
    "range = [0.2, .3,.4,.5, .6,.7, .8, 1, 1000]\n",
    "cols = constants.percCompColumns\n",
    "bins = analyze.fieldAnalysis(hg, range, cols, \"DoopExp\")\n",
    "stackedbar.plot_doop(bins, range, cols)"
   ]
  },
  {
   "cell_type": "code",
   "execution_count": null,
   "metadata": {},
   "outputs": [],
   "source": [
    "\n",
    "g = dataset.loc[dataset[\"Metal\"] == \"Cu\"]\n",
    "range = [.2,  .4, .6, 1000] #.8, 1, 1.2,1.5, 2.0, 2.5, 1000]\n",
    "cols = constants.percColumns\n",
    "bins = analyze.fieldAnalysis(g, range, cols, \"DoopExp\")\n",
    "stackedbar.plot_doop(bins, range, cols)"
   ]
  }
 ],
 "metadata": {
  "language_info": {
   "name": "python"
  }
 },
 "nbformat": 4,
 "nbformat_minor": 2
}
