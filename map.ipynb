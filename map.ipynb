{
 "cells": [
  {
   "cell_type": "markdown",
   "metadata": {},
   "source": [
    "### Creates a tSNE Visualization of the given PorphyStruct Result data"
   ]
  },
  {
   "cell_type": "code",
   "execution_count": null,
   "metadata": {},
   "outputs": [],
   "source": [
    "import numpy as np\n",
    "import pandas as pd\n",
    "from data import constants\n",
    "from mathutil import comp, percentage"
   ]
  },
  {
   "cell_type": "code",
   "execution_count": null,
   "metadata": {},
   "outputs": [],
   "source": [
    "df = pd.read_excel(r\"C:\\Users\\jenso\\PowerFolders\\Forschung\\CSD Data Mining\\Results.xlsx\")\n",
    "df.fillna(\"\", inplace=True)\n",
    "dataset = df.loc[(df[\"Type\"] == \"Corrole\") & (df[\"Class\"] == \"Corrole\")]\n",
    "dataset.reset_index(drop=True, inplace=True)\n",
    "dataset = percentage.createPercData(dataset)\n",
    "dataset = comp.createCompData(dataset)\n",
    "dataset[\"dominant\"] = dataset[constants.compColumns].idxmax(axis=1)\n"
   ]
  },
  {
   "cell_type": "code",
   "execution_count": null,
   "metadata": {},
   "outputs": [],
   "source": [
    "len(dataset)"
   ]
  },
  {
   "cell_type": "markdown",
   "metadata": {},
   "source": [
    "### Prepare sklearn stuff"
   ]
  },
  {
   "cell_type": "code",
   "execution_count": null,
   "metadata": {},
   "outputs": [],
   "source": [
    "from sklearn.compose import ColumnTransformer\n",
    "from sklearn.pipeline import Pipeline\n",
    "from sklearn.impute import  SimpleImputer\n",
    "from sklearn.preprocessing import StandardScaler\n",
    "from sklearn.manifold import TSNE"
   ]
  },
  {
   "cell_type": "code",
   "execution_count": null,
   "metadata": {},
   "outputs": [],
   "source": [
    "preprocess = ColumnTransformer(\n",
    "    transformers = [\n",
    "        (\"prepocess_ext\", Pipeline(\n",
    "            steps=[\n",
    "                ('imputer', SimpleImputer(strategy=\"constant\", fill_value=0)),\n",
    "                (\"scaler\", StandardScaler())\n",
    "            ]\n",
    "        ), constants.percColumns)\n",
    "    ], sparse_threshold=0)"
   ]
  },
  {
   "cell_type": "markdown",
   "metadata": {},
   "source": [
    "### Do TSNE Computation"
   ]
  },
  {
   "cell_type": "code",
   "execution_count": null,
   "metadata": {},
   "outputs": [],
   "source": [
    "tsne = TSNE(n_components=2, random_state=69420, perplexity=50, n_iter=5000)\n",
    "df_mapping = pd.DataFrame(tsne.fit_transform(preprocess.fit_transform(dataset)), columns=[\"x\", \"y\"])"
   ]
  },
  {
   "cell_type": "markdown",
   "metadata": {},
   "source": [
    "\n",
    "### Add Columns for Viz"
   ]
  },
  {
   "cell_type": "code",
   "execution_count": null,
   "metadata": {},
   "outputs": [],
   "source": [
    "df_mapping[\"M\"] = dataset[\"Metal\"]\n",
    "df_mapping[\"Doop\"] = dataset[\"DoopExp\"]\n",
    "df_mapping[\"Group\"] = dataset[\"Group\"].astype(str)\n",
    "df_mapping[\"dominant\"] = dataset[\"dominant\"]\n",
    "df_mapping[\"Cu\"] = dataset[\"Metal\"] == \"Cu\"\n",
    "df_mapping[\"H\"] = dataset[\"Metal\"] == \"H\"\n",
    "df_mapping[\"Class\"] = dataset[\"Class\"]\n"
   ]
  },
  {
   "cell_type": "markdown",
   "metadata": {},
   "source": [
    "\n",
    "### Plot Stuff"
   ]
  },
  {
   "cell_type": "code",
   "execution_count": null,
   "metadata": {},
   "outputs": [],
   "source": [
    "! pip install plotnine\n",
    "! pip install natsort\n",
    "! pip install -U kaleido\n",
    "! pip install plotly\n",
    "\n",
    "import plotly.express as px\n",
    "from natsort import index_natsorted\n",
    "import plotly.express as px\n",
    "from plotnine import *\n",
    "import plotly.io as pio\n",
    "import plotly\n",
    "plotly.__version__ #5.6.0\n",
    "import kaleido #required\n",
    "kaleido.__version__ #0.2.1"
   ]
  },
  {
   "cell_type": "code",
   "execution_count": null,
   "metadata": {},
   "outputs": [],
   "source": [
    "df_mapping.sort_values(by=\"Group\", key=lambda x: np.argsort(index_natsorted(df_mapping[\"Group\"])), inplace=True)"
   ]
  },
  {
   "cell_type": "code",
   "execution_count": null,
   "metadata": {},
   "outputs": [],
   "source": [
    "ggplot(df_mapping,aes(x=\"x\", y=\"y\", label=\"M\")) + geom_point(aes(size=\"Doop\", colour=\"Class\")) + geom_text(size=6)"
   ]
  },
  {
   "cell_type": "code",
   "execution_count": null,
   "metadata": {},
   "outputs": [],
   "source": [
    "metrix = [\"Cu\", \"H\", \"dominant\", \"Group\", \"Class\"]\n",
    "for k in metrix:\n",
    "    fig = px.scatter(df_mapping, x=\"x\", y=\"y\", color=k, size=\"Doop\", text=\"M\")\n",
    "    fig.update_traces(textfont_size=8)\n",
    "    pio.write_image(fig, f\"out/tsne_{k}.png\", scale=15)\n"
   ]
  }
 ],
 "metadata": {
  "kernelspec": {
   "display_name": "Python 3.9.7 ('base')",
   "language": "python",
   "name": "python3"
  },
  "language_info": {
   "codemirror_mode": {
    "name": "ipython",
    "version": 3
   },
   "file_extension": ".py",
   "mimetype": "text/x-python",
   "name": "python",
   "nbconvert_exporter": "python",
   "pygments_lexer": "ipython3",
   "version": "3.9.7"
  },
  "orig_nbformat": 4,
  "vscode": {
   "interpreter": {
    "hash": "ad2bdc8ecc057115af97d19610ffacc2b4e99fae6737bb82f5d7fb13d2f2c186"
   }
  }
 },
 "nbformat": 4,
 "nbformat_minor": 2
}
