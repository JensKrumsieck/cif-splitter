{
 "cells": [
  {
   "cell_type": "code",
   "execution_count": null,
   "metadata": {},
   "outputs": [],
   "source": [
    "import numpy as np\n",
    "import pandas as pd\n",
    "from data import constants\n",
    "from mathutil import comp, percentage\n",
    "from plotutil import periodictable"
   ]
  },
  {
   "cell_type": "code",
   "execution_count": null,
   "metadata": {},
   "outputs": [],
   "source": [
    "df = pd.read_excel(r\"C:\\Users\\jenso\\PowerFolders\\Forschung\\CSD Data Mining\\Results.xlsx\")\n",
    "df.replace(r'^\\s*$', np.nan, regex=True, inplace=True)\n",
    "cr_bro = pd.read_excel(r\"C:\\Users\\jenso\\PowerFolders\\Forschung\\CSD Data Mining - Chromyl\\Results.xlsx\")\n",
    "df = pd.concat([df, cr_bro])\n",
    "\n",
    "df[\"Group\"] = df[\"Group\"].astype(str)\n",
    "# dataset = df.loc[(df[\"Type\"] == \"Corrole\") & (df[\"Class\"] != \"Corrole\")]\n",
    "dataset = df.loc[(df[\"Type\"] != \"Porphyrin\")]\n",
    "dataset.reset_index(drop=True, inplace=True)\n",
    "dataset = percentage.createPercData(dataset)\n",
    "dataset = comp.createCompData(dataset)\n",
    "dataset = percentage.createCompPercData(dataset)\n",
    "# dataset[\"dominant\"] = dataset[constants.compColumns].idxmax(axis=1)\n",
    "len(dataset)"
   ]
  },
  {
   "cell_type": "code",
   "execution_count": null,
   "metadata": {},
   "outputs": [],
   "source": [
    "from matplotlib import pyplot as plt\n",
    "from plotutil.misc import cm_to_inch\n",
    "import matplotlib\n",
    "import seaborn as sns\n",
    "! pip install SciencePlots"
   ]
  },
  {
   "cell_type": "code",
   "execution_count": null,
   "metadata": {},
   "outputs": [],
   "source": [
    "plt.style.use(['science', 'nature', 'no-latex'])\n",
    "plt.rcParams[\"figure.figsize\"] = (cm_to_inch(16), cm_to_inch(13))\n",
    "plt.rcParams[\"figure.dpi\"] = 1200\n",
    "plt.rcParams[\"axes.labelsize\"] = 11\n",
    "plt.rcParams[\"axes.titlesize\"] = 9\n",
    "plt.rcParams[\"xtick.labelsize\"] = 9\n",
    "plt.rcParams[\"ytick.labelsize\"] = 9\n",
    "plt.rcParams[\"font.family\"] = \"Arial\""
   ]
  },
  {
   "cell_type": "code",
   "execution_count": null,
   "metadata": {},
   "outputs": [],
   "source": [
    "m3d = periodictable.m3d.copy()\n",
    "m3d.remove(\"Sc\")\n",
    "mode = \"Ruffling\"\n",
    "dataset[\"x\"] = np.abs(dataset[f\"{mode}1\"])\n",
    "dataset[\"y\"] = np.sign(dataset[f\"{mode}1\"]) * dataset[f\"{mode}2\"]\n",
    "sub_data = dataset.loc[dataset[\"Metal\"].isin(m3d)]\n",
    "sub_data.Metal = sub_data.Metal.astype(\"category\")\n",
    "sub_data.Metal = sub_data.Metal.cat.set_categories(m3d)\n",
    "sub_data.sort_values(\"Metal\", inplace=True)\n",
    "ax = sns.violinplot(data=sub_data, y=\"Metal\", x=\"x\", bw=0.1, scale=\"width\", palette=constants.colors_classes)\n",
    "# sns.swarmplotdata=sub_data, y=\"Metal\", x=\"x\", alpha=0.25, color=\"k\", size=2)\n",
    "ax.set_xlabel(f\"|{mode}1|\")\n",
    "ax.set_ylabel(\"\")\n",
    "ax.set_xlim(-.1)\n",
    "ticklabels = []\n",
    "for m in m3d:\n",
    "    count = sub_data.loc[sub_data[\"Metal\"] == m].shape[0]\n",
    "    ticklabels.append(f\"{m} (n = {count})\")\n",
    "ax.set_yticklabels(ticklabels)"
   ]
  }
 ],
 "metadata": {
  "language_info": {
   "name": "python"
  }
 },
 "nbformat": 4,
 "nbformat_minor": 2
}
