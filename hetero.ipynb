{
 "cells": [
  {
   "cell_type": "code",
   "execution_count": null,
   "metadata": {},
   "outputs": [],
   "source": [
    "from plotutil import periodictable\n",
    "import pandas as pd\n",
    "from mathutil import percentage, comp, constants\n",
    "from matplotlib import pyplot as plt\n",
    "from plotutil.misc import cm_to_inch\n",
    "! pip install SciencePlots"
   ]
  },
  {
   "cell_type": "code",
   "execution_count": null,
   "metadata": {},
   "outputs": [],
   "source": [
    "plt.style.use(['science', 'nature', 'no-latex'])\n",
    "plt.rcParams[\"figure.figsize\"] = (cm_to_inch(16), cm_to_inch(13))\n",
    "plt.rcParams[\"figure.dpi\"] = 1200\n",
    "plt.rcParams[\"axes.labelsize\"] = 11\n",
    "plt.rcParams[\"axes.titlesize\"] = 9\n",
    "plt.rcParams[\"xtick.labelsize\"] = 9\n",
    "plt.rcParams[\"ytick.labelsize\"] = 9\n",
    "plt.rcParams[\"font.family\"] = \"Arial\""
   ]
  },
  {
   "cell_type": "code",
   "execution_count": null,
   "metadata": {},
   "outputs": [],
   "source": [
    "df = pd.read_excel(r\"C:\\Users\\jenso\\PowerFolders\\Forschung\\CSD Data Mining\\Results.xlsx\")\n",
    "df.fillna(\"\", inplace=True)\n",
    "cr_bro = pd.read_excel(r\"C:\\Users\\jenso\\PowerFolders\\Forschung\\CSD Data Mining - Chromyl\\Results.xlsx\")\n",
    "df = pd.concat([df, cr_bro])\n",
    "dataset = df.loc[(df[\"Type\"] == \"Corrole\") & (df[\"Class\"] != \"Corrole\")]# & (df[\"CoordNo\"] == 4)]\n",
    "dataset.reset_index(drop=True, inplace=True)\n",
    "dataset = percentage.createPercData(dataset)\n",
    "dataset = comp.createCompData(dataset)\n",
    "dataset = percentage.createCompPercData(dataset)\n",
    "dataset[\"dominant\"] = dataset[constants.compColumns].idxmax(axis=1)\n",
    "len(dataset)"
   ]
  },
  {
   "cell_type": "code",
   "execution_count": null,
   "metadata": {},
   "outputs": [],
   "source": [
    "from data import datautil\n",
    "from mathutil.analyze import groupBy\n",
    "from matplotlib.lines import Line2D\n",
    "from data.constants import colors_min, percCompColumns, percColumns, colors_ext\n",
    "from plotutil.periodictable import draw_pie\n",
    "\n",
    "\n",
    "data_hic = datautil.applyHICSubclass(dataset)\n",
    "data_hic = datautil.getHeteroAtom(data_hic)\n",
    "data_hic = data_hic.loc[data_hic[\"Subclass\"] == \"10-Heterocorrole\"]\n",
    "\n",
    "fig, ax = plt.subplots()\n",
    "plt.box(False)\n",
    "custom_lines = [Line2D([0], [0], color=colors_min[0], lw=4),\n",
    "                  Line2D([0], [0], color=colors_min[1], lw=4),\n",
    "                    Line2D([0], [0], color=colors_min[2], lw=4),\n",
    "                    Line2D([0], [0], color=colors_min[3], lw=4),\n",
    "                    Line2D([0], [0], color=colors_min[4], lw=4),\n",
    "                    Line2D([0], [0], color=colors_min[5], lw=4)]\n",
    "# custom_lines += [Line2D([0], [0], color=colors_ext[0], lw=4),\n",
    "#                          Line2D([0], [0], color=colors_ext[1], lw=4),\n",
    "#                          Line2D([0], [0], color=colors_ext[2], lw=4),\n",
    "#                          Line2D([0], [0], color=colors_ext[3], lw=4),\n",
    "#                          Line2D([0], [0], color=colors_ext[4], lw=4),\n",
    "#                          Line2D([0], [0], color=colors_ext[5], lw=4)]\n",
    "items = ['dom', 'sad', 'ruf', 'wav x', 'wav y', 'pro']\n",
    "# items += ['dom2', 'sad2', 'ruf2', 'wav x2', 'wav y2', 'pro2']\n",
    "\n",
    "legend = plt.legend(\n",
    "        custom_lines, items, frameon=1, loc=2, ncol=3, bbox_to_anchor=(.0, .0),\n",
    "    )\n",
    "frame = legend.get_frame()\n",
    "frame.set_color('white')\n",
    "ax.minorticks_off()\n",
    "ax.xaxis.tick_top()\n",
    "ax.tick_params(axis='both', which='both', length=0)\n",
    "\n",
    "heteroatoms = groupBy(data_hic, constants.percColumns, \"Heteroatom\").index.tolist()\n",
    "# heteroatoms.sort(key)\n",
    "metals = groupBy(data_hic, constants.percColumns, \"Metal\").index.tolist()\n",
    "ax.set_xticklabels([\"\"] + metals)\n",
    "ax.set_yticklabels([\"\"] + heteroatoms)\n",
    "ax.set(xlim=(-.5, len(heteroatoms)-1.5), ylim=(len(metals)+.5, -.5))\n",
    "columns = constants.percCompColumns\n",
    "for h in heteroatoms:\n",
    "    subframe = data_hic.loc[data_hic[\"Heteroatom\"] == h]\n",
    "    subgroup = groupBy(subframe, columns, \"Metal\")\n",
    "    for m in metals:\n",
    "        pos_x = metals.index(m)\n",
    "        pos_y = heteroatoms.index(h)\n",
    "        res = subgroup.query(\"Metal == @m\")\n",
    "        if res.size == 0:\n",
    "            plt.text(pos_x, pos_y, \"-\", horizontalalignment=\"center\", verticalalignment=\"center\", fontsize=6)\n",
    "            continue\n",
    "        list = []\n",
    "        for mode in columns:\n",
    "            if \"Doop\" in m: continue\n",
    "            list.append(res[mode].values[0])\n",
    "        draw_pie(pos_x, pos_y, list, res[\"DoopExp\"]*1000, constants.colors_min, ax)        \n",
    "        s = res[\"structures\"].values[0]\n",
    "        plt.text(pos_x, pos_y-.3, s, horizontalalignment=\"center\", verticalalignment=\"bottom\", fontweight=\"bold\", fontsize=9)"
   ]
  }
 ],
 "metadata": {
  "kernelspec": {
   "display_name": "Python 3.9.7 ('base')",
   "language": "python",
   "name": "python3"
  },
  "language_info": {
   "codemirror_mode": {
    "name": "ipython",
    "version": 3
   },
   "file_extension": ".py",
   "mimetype": "text/x-python",
   "name": "python",
   "nbconvert_exporter": "python",
   "pygments_lexer": "ipython3",
   "version": "3.9.7"
  },
  "vscode": {
   "interpreter": {
    "hash": "ad2bdc8ecc057115af97d19610ffacc2b4e99fae6737bb82f5d7fb13d2f2c186"
   }
  }
 },
 "nbformat": 4,
 "nbformat_minor": 2
}
