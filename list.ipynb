{
 "cells": [
  {
   "cell_type": "code",
   "execution_count": 1,
   "metadata": {},
   "outputs": [],
   "source": [
    "import numpy as np\n",
    "import pandas as pd\n",
    "from data import constants, datautil\n",
    "from mathutil import comp, percentage\n",
    "import json, os\n",
    "path = \"out/lists/\"\n",
    "if not os.path.exists(path):\n",
    "    os.mkdir(path)"
   ]
  },
  {
   "cell_type": "code",
   "execution_count": 2,
   "metadata": {},
   "outputs": [],
   "source": [
    "df = pd.read_excel(r\"C:\\Users\\jenso\\PowerFolders\\Forschung\\CSD Data Mining\\Results.xlsx\")\n",
    "df.fillna(\"\", inplace=True)\n",
    "cr_bro = pd.read_excel(r\"C:\\Users\\jenso\\PowerFolders\\Forschung\\CSD Data Mining - Chromyl\\Results.xlsx\")\n",
    "df = pd.concat([df, cr_bro])"
   ]
  },
  {
   "cell_type": "code",
   "execution_count": 15,
   "metadata": {},
   "outputs": [],
   "source": [
    "def export(dataframe, prefix):\n",
    "    metals = dataframe.groupby(\"Metal\")\n",
    "    export_str = \"\"\n",
    "    for m, c in metals:\n",
    "        export_str += m + \"\\n\"\n",
    "        lelist = dataframe.loc[(dataframe[\"Metal\"] == m)][\"CCDC\"].to_list()\n",
    "        lelist = list(dict.fromkeys(lelist))\n",
    "        lelist.sort()\n",
    "        with open(\"out/lists/\"+ prefix +\"_\" + m + \".json\", 'w') as fp:\n",
    "            json.dump(lelist, fp)\n",
    "        export_str +=  \"[\" + \", \".join(lelist) + \"]\\n\"\n",
    "    return export_str"
   ]
  },
  {
   "cell_type": "code",
   "execution_count": 8,
   "metadata": {},
   "outputs": [],
   "source": [
    "class_corroles = [\"Corrole\", \"Heterocorrole\", \"Isocorrole\", \"NConfused-Corrole\", \"NR-Corrole\", \"Corrolazine\"]\n",
    "class_norcorroles = [\"Norcorrole\", \"Isonorcorrole\", \"Norcorrolazine\"]\n",
    "class_porphycenes = [\"Porphycene\", \"NR-Porphycene\"]\n",
    "class_corrphycenes = [\"Corrphycene\", \"Heterocorrphycene\"]"
   ]
  },
  {
   "cell_type": "code",
   "execution_count": 16,
   "metadata": {},
   "outputs": [
    {
     "name": "stderr",
     "output_type": "stream",
     "text": [
      "c:\\ProgramData\\Anaconda3\\lib\\site-packages\\pandas\\util\\_decorators.py:311: SettingWithCopyWarning: \n",
      "A value is trying to be set on a copy of a slice from a DataFrame\n",
      "\n",
      "See the caveats in the documentation: https://pandas.pydata.org/pandas-docs/stable/user_guide/indexing.html#returning-a-view-versus-a-copy\n",
      "  return func(*args, **kwargs)\n"
     ]
    }
   ],
   "source": [
    "export_string = \"\"\n",
    "for data_class in class_corroles:\n",
    "    export_string += data_class + \"\\n\"\n",
    "    corroles = df.loc[(df[\"Class\"] == data_class) & (df[\"Type\"] == \"Corrole\")]\n",
    "    corroles.sort_values(\"Metal\", inplace=True)\n",
    "    export_string += export(corroles, data_class)\n",
    "\n",
    "for data_class in class_norcorroles:\n",
    "    export_string += data_class + \"\\n\"\n",
    "    corroles = df.loc[(df[\"Class\"] == data_class) & (df[\"Type\"] == \"Norcorrole\")]\n",
    "    corroles.sort_values(\"Metal\", inplace=True)\n",
    "    export_string += export(corroles, data_class)\n",
    "\n",
    "for data_class in class_corrphycenes:\n",
    "    export_string += data_class + \"\\n\"\n",
    "    corroles = df.loc[(df[\"Class\"] == data_class) & (df[\"Type\"] == \"Corrphycene\")]\n",
    "    corroles.sort_values(\"Metal\", inplace=True)\n",
    "    export_string += export(corroles, data_class)\n",
    "\n",
    "for data_class in class_porphycenes:\n",
    "    export_string += data_class + \"\\n\"\n",
    "    corroles = df.loc[(df[\"Class\"] == data_class) & (df[\"Type\"] == \"Porphycene\")]\n",
    "    corroles.sort_values(\"Metal\", inplace=True)\n",
    "    export_string += export(corroles, data_class)\n",
    "\n",
    "with open(\"out/lists/all.txt\", 'w') as fp:\n",
    "    fp.write(export_string)"
   ]
  }
 ],
 "metadata": {
  "kernelspec": {
   "display_name": "base",
   "language": "python",
   "name": "python3"
  },
  "language_info": {
   "codemirror_mode": {
    "name": "ipython",
    "version": 3
   },
   "file_extension": ".py",
   "mimetype": "text/x-python",
   "name": "python",
   "nbconvert_exporter": "python",
   "pygments_lexer": "ipython3",
   "version": "3.9.7"
  },
  "orig_nbformat": 4,
  "vscode": {
   "interpreter": {
    "hash": "ad2bdc8ecc057115af97d19610ffacc2b4e99fae6737bb82f5d7fb13d2f2c186"
   }
  }
 },
 "nbformat": 4,
 "nbformat_minor": 2
}
