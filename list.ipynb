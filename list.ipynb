{
 "cells": [
  {
   "cell_type": "code",
   "execution_count": null,
   "metadata": {},
   "outputs": [],
   "source": [
    "import numpy as np\n",
    "import pandas as pd\n",
    "from data import constants, datautil\n",
    "from mathutil import comp, percentage\n",
    "import json, os\n",
    "path = \"out/lists/\"\n",
    "if not os.path.exists(path):\n",
    "    os.mkdir(path)"
   ]
  },
  {
   "cell_type": "code",
   "execution_count": null,
   "metadata": {},
   "outputs": [],
   "source": [
    "df = pd.read_excel(r\"C:\\Users\\jenso\\PowerFolders\\Forschung\\CSD Data Mining\\Results.xlsx\")\n",
    "df.fillna(\"\", inplace=True)\n",
    "cr_bro = pd.read_excel(r\"C:\\Users\\jenso\\PowerFolders\\Forschung\\CSD Data Mining - Chromyl\\Results.xlsx\")\n",
    "df = pd.concat([df, cr_bro])"
   ]
  },
  {
   "cell_type": "code",
   "execution_count": null,
   "metadata": {},
   "outputs": [],
   "source": [
    "def export(dataframe, prefix):\n",
    "    metals = dataframe.groupby(\"Metal\")\n",
    "    export_str = \"\"\n",
    "    for m, c in metals:\n",
    "        export_str += m + \"\\n\"\n",
    "        lelist = dataframe.loc[(dataframe[\"Metal\"] == m)][\"CCDC\"].to_list()\n",
    "        lelist = list(dict.fromkeys(lelist))\n",
    "        lelist.sort()\n",
    "        with open(\"out/lists/\"+ prefix +\"_\" + m + \".json\", 'w') as fp:\n",
    "            json.dump(lelist, fp)\n",
    "        export_str +=  \"[\" + \", \".join(lelist) + \"]\\n\"\n",
    "    return export_str"
   ]
  },
  {
   "cell_type": "code",
   "execution_count": null,
   "metadata": {},
   "outputs": [],
   "source": [
    "class_corroles = [\"Corrole\", \"Heterocorrole\", \"Isocorrole\", \"NConfused-Corrole\", \"NR-Corrole\", \"Corrolazine\"]\n",
    "class_norcorroles = [\"Norcorrole\", \"Isonorcorrole\", \"Norcorrolazine\"]\n",
    "class_porphycenes = [\"Porphycene\", \"NR-Porphycene\"]\n",
    "class_corrphycenes = [\"Corrphycene\", \"Heterocorrphycene\"]"
   ]
  },
  {
   "cell_type": "code",
   "execution_count": null,
   "metadata": {},
   "outputs": [],
   "source": [
    "export_string = \"\"\n",
    "for data_class in class_corroles:\n",
    "    export_string += data_class + \"\\n\"\n",
    "    corroles = df.loc[(df[\"Class\"] == data_class) & (df[\"Type\"] == \"Corrole\")]\n",
    "    corroles.sort_values(\"Metal\", inplace=True)\n",
    "    export_string += export(corroles, data_class)\n",
    "\n",
    "for data_class in class_norcorroles:\n",
    "    export_string += data_class + \"\\n\"\n",
    "    corroles = df.loc[(df[\"Class\"] == data_class) & (df[\"Type\"] == \"Norcorrole\")]\n",
    "    corroles.sort_values(\"Metal\", inplace=True)\n",
    "    export_string += export(corroles, data_class)\n",
    "\n",
    "for data_class in class_corrphycenes:\n",
    "    export_string += data_class + \"\\n\"\n",
    "    corroles = df.loc[(df[\"Class\"] == data_class) & (df[\"Type\"] == \"Corrphycene\")]\n",
    "    corroles.sort_values(\"Metal\", inplace=True)\n",
    "    export_string += export(corroles, data_class)\n",
    "\n",
    "for data_class in class_porphycenes:\n",
    "    export_string += data_class + \"\\n\"\n",
    "    corroles = df.loc[(df[\"Class\"] == data_class) & (df[\"Type\"] == \"Porphycene\")]\n",
    "    corroles.sort_values(\"Metal\", inplace=True)\n",
    "    export_string += export(corroles, data_class)\n",
    "\n",
    "with open(\"out/lists/all.txt\", 'w') as fp:\n",
    "    fp.write(export_string)"
   ]
  }
 ],
 "metadata": {
  "language_info": {
   "name": "python"
  }
 },
 "nbformat": 4,
 "nbformat_minor": 2
}
