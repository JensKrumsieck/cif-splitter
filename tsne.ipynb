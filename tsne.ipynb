{
 "cells": [
  {
   "cell_type": "code",
   "execution_count": null,
   "metadata": {},
   "outputs": [],
   "source": [
    "! pip install plotnine"
   ]
  },
  {
   "cell_type": "code",
   "execution_count": null,
   "metadata": {},
   "outputs": [],
   "source": [
    "import pandas as pd\n",
    "from plotnine import *\n",
    "from sklearn.manifold import TSNE\n",
    "# from sklearn.decomposition import PCA, TruncatedSVD\n",
    "from util.datasource import anything, corroles\n",
    "from util.analysis import ext_modes, plot_selector, perc_comp, perc_ext\n"
   ]
  },
  {
   "cell_type": "code",
   "execution_count": null,
   "metadata": {},
   "outputs": [],
   "source": [
    "df = corroles.dataFrame"
   ]
  },
  {
   "cell_type": "code",
   "execution_count": null,
   "metadata": {},
   "outputs": [],
   "source": [
    "conformation = df[perc_ext].fillna(0)\n",
    "# conformation[\"Doop\"] = df[\"Doop (exp.)\"]\n",
    "# conformation[\"Cavity\"] = df[\"Cavity\"]"
   ]
  },
  {
   "cell_type": "code",
   "execution_count": null,
   "metadata": {},
   "outputs": [],
   "source": [
    "tsne = TSNE(n_components=2)"
   ]
  },
  {
   "cell_type": "code",
   "execution_count": null,
   "metadata": {},
   "outputs": [],
   "source": [
    "X = conformation.values"
   ]
  },
  {
   "cell_type": "code",
   "execution_count": null,
   "metadata": {},
   "outputs": [],
   "source": [
    "mapping_tsne = tsne.fit_transform(X)"
   ]
  },
  {
   "cell_type": "code",
   "execution_count": null,
   "metadata": {},
   "outputs": [],
   "source": [
    "df_tsne = pd.DataFrame(mapping_tsne, columns=[\"x\", \"y\"])"
   ]
  },
  {
   "cell_type": "code",
   "execution_count": null,
   "metadata": {},
   "outputs": [],
   "source": [
    "df_tsne[\"category\"] = df[\"category\"]\n",
    "df_tsne[\"CCDC\"] = df[\"CCDC\"]\n",
    "df_tsne[\"M\"] = df[\"M\"]\n",
    "df_tsne[\"Group\"] = df[\"Group\"]\n",
    "df_tsne[\"Doop\"] = df[\"Doop (exp.)\"]\n",
    "df_tsne[\"Cavity\"] = df[\"Cavity\"]\n",
    "df_tsne = df_tsne.astype({\"Group\": \"str\"})\n",
    "df_tsne\n"
   ]
  },
  {
   "cell_type": "code",
   "execution_count": null,
   "metadata": {},
   "outputs": [],
   "source": [
    "ggplot(df_tsne, aes(x=\"x\", y=\"y\")) + geom_point(aes(label=\"M\", colour=\"Group\", size=\"Doop\")) + geom_text(aes(label=\"M\"), size=6)\n"
   ]
  }
 ],
 "metadata": {
  "interpreter": {
   "hash": "96eb50e1d44aed467dc8f759cb08c32fbfa9babcf79c554e2d0e5feb04653a10"
  },
  "kernelspec": {
   "display_name": "Python 3.9.7 ('base')",
   "language": "python",
   "name": "python3"
  },
  "language_info": {
   "codemirror_mode": {
    "name": "ipython",
    "version": 3
   },
   "file_extension": ".py",
   "mimetype": "text/x-python",
   "name": "python",
   "nbconvert_exporter": "python",
   "pygments_lexer": "ipython3",
   "version": "3.9.7"
  }
 },
 "nbformat": 4,
 "nbformat_minor": 2
}
