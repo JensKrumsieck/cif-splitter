{
 "cells": [
  {
   "cell_type": "code",
   "execution_count": null,
   "metadata": {},
   "outputs": [],
   "source": [
    "! pip install plotnine\n",
    "! pip install ipympl\n",
    "! pip install plotly\n",
    "! pip install natsort\n",
    "! pip install -U kaleido\n",
    "\n",
    "import plotly\n",
    "plotly.__version__ #5.6.0\n",
    "import kaleido #required\n",
    "kaleido.__version__ #0.2.1\n",
    "\n"
   ]
  },
  {
   "cell_type": "code",
   "execution_count": null,
   "metadata": {},
   "outputs": [],
   "source": [
    "%matplotlib widget"
   ]
  },
  {
   "cell_type": "code",
   "execution_count": null,
   "metadata": {},
   "outputs": [],
   "source": [
    "import pandas as pd\n",
    "from plotnine import *\n",
    "import plotly.express as px\n",
    "from natsort import index_natsorted\n",
    "import numpy as np\n",
    "from util.datasource import anything, corroles\n",
    "from util.analysis import ext_modes, plot_selector, perc_comp, perc_ext"
   ]
  },
  {
   "cell_type": "code",
   "execution_count": null,
   "metadata": {},
   "outputs": [],
   "source": [
    "df = corroles.dataFrame\n",
    "df[\"dominant\"] = df[plot_selector].idxmax(axis=1)\n",
    "df"
   ]
  },
  {
   "cell_type": "markdown",
   "metadata": {},
   "source": [
    "### Select only direct porphystruct output"
   ]
  },
  {
   "cell_type": "code",
   "execution_count": null,
   "metadata": {},
   "outputs": [],
   "source": [
    "from sklearn.compose import ColumnTransformer\n",
    "from sklearn.pipeline import Pipeline\n",
    "from sklearn.impute import SimpleImputer\n",
    "from sklearn.preprocessing import StandardScaler\n",
    "from sklearn.manifold import TSNE "
   ]
  },
  {
   "cell_type": "code",
   "execution_count": null,
   "metadata": {},
   "outputs": [],
   "source": [
    "preprocess = ColumnTransformer(\n",
    "    transformers = [\n",
    "        (\"prepocess_ext\", Pipeline(\n",
    "            steps=[\n",
    "                ('imputer', SimpleImputer(strategy=\"constant\", fill_value=0)),\n",
    "                (\"scaler\", StandardScaler())\n",
    "            ]\n",
    "        ), perc_ext + [\"Doop (exp.)\"])\n",
    "    ], sparse_threshold=0)"
   ]
  },
  {
   "cell_type": "code",
   "execution_count": null,
   "metadata": {},
   "outputs": [],
   "source": [
    "tsne = TSNE(n_components=2, random_state=91, perplexity=50)\n",
    "mapping = tsne.fit_transform(preprocess.fit_transform(df))"
   ]
  },
  {
   "cell_type": "code",
   "execution_count": null,
   "metadata": {},
   "outputs": [],
   "source": [
    "df_mapping = pd.DataFrame(mapping, columns=[\"x\", \"y\"])\n",
    "df_mapping[\"category\"] = df[\"category\"]\n",
    "df_mapping[\"M\"] = df[\"M\"]\n",
    "df_mapping[\"Doop\"] = df[\"Doop (exp.)\"]\n",
    "df_mapping[\"Coord_No\"] = df[\"Coord_No\"]\n",
    "df_mapping[\"No_Subs\"] = df[\"No_Subs\"]\n",
    "df_mapping[\"Group\"] =  df[\"Group\"].astype(str)\n",
    "df_mapping[\"dominant\"] = df[\"dominant\"]\n",
    "df_mapping[\"Ligand\"] = df[\"Ligand\"]\n",
    "df_mapping[\"Axial\"] = df[\"Axial\"]\n",
    "df_mapping[\"CCDC\"] = df[\"CCDC\"]\n",
    "df_mapping[\"cu\"] = df[\"M\"] == \"Cu\"\n",
    "df_mapping[\"h\"] = df[\"M\"] == \"H\"\n",
    "df_mapping[\"hcu\"] = df_mapping[\"cu\"] + df_mapping[\"h\"]\n",
    "df_mapping[\"rad\"] = df[\"CCDC\"] == 1060277"
   ]
  },
  {
   "cell_type": "code",
   "execution_count": null,
   "metadata": {},
   "outputs": [],
   "source": [
    "ggplot(df_mapping, aes(x=\"x\", y=\"y\", label=\"M\")) + geom_point(aes(colour=\"rad\", size=\"Doop\")) + geom_text(size=6)"
   ]
  },
  {
   "cell_type": "code",
   "execution_count": null,
   "metadata": {},
   "outputs": [],
   "source": [
    "fig = px.scatter(df_mapping, x=\"x\", y=\"y\", color=\"cu\", size=\"Doop\", text=\"M\", custom_data=[\"M\", \"Ligand\", \"Axial\", \"Coord_No\", \"No_Subs\",  \"Doop\", \"CCDC\", \"dominant\"], width=900, height=600)\n",
    "fig.update_traces(hovertemplate=\"CCDC: %{customdata[6]}<br>%{customdata[0]} %{customdata[1]} %{customdata[2]} <br>Coordination Number: %{customdata[3]} <br>%{customdata[7]}<br>Doop: %{customdata[5]}\")\n",
    "fig.update_traces(textfont_size=8)\n",
    "fig.write_html(\"out/tsne_cu.html\", include_plotlyjs=\"cdn\")\n",
    "fig.write_image(\"out/tsne_cu.png\", engine=\"kaleido\",scale=15)"
   ]
  },
  {
   "cell_type": "code",
   "execution_count": null,
   "metadata": {},
   "outputs": [],
   "source": [
    "fig = px.scatter(df_mapping, x=\"x\", y=\"y\",  size=\"Doop\", text=\"M\", custom_data=[\"M\", \"Ligand\", \"Axial\", \"Coord_No\", \"No_Subs\",  \"Doop\", \"CCDC\", \"dominant\"], width=900, height=600)\n",
    "fig.update_traces(hovertemplate=\"CCDC: %{customdata[6]}<br>%{customdata[0]} %{customdata[1]} %{customdata[2]} <br>Coordination Number: %{customdata[3]} <br>%{customdata[7]}<br>Doop: %{customdata[5]}\")\n",
    "fig.update_traces(textfont_size=8)\n",
    "fig.write_html(\"out/tsne_blue.html\", include_plotlyjs=\"cdn\")\n",
    "fig.write_image(\"out/tsne_blue.png\", engine=\"kaleido\",scale=15)"
   ]
  },
  {
   "cell_type": "code",
   "execution_count": null,
   "metadata": {},
   "outputs": [],
   "source": [
    "fig = px.scatter(df_mapping, x=\"x\", y=\"y\", color=\"h\", size=\"Doop\", text=\"M\", custom_data=[\"M\", \"Ligand\", \"Axial\", \"Coord_No\", \"No_Subs\",  \"Doop\", \"CCDC\", \"dominant\"], width=900, height=600)\n",
    "fig.update_traces(hovertemplate=\"CCDC: %{customdata[6]}<br>%{customdata[0]} %{customdata[1]} %{customdata[2]} <br>Coordination Number: %{customdata[3]} <br>%{customdata[7]}<br>Doop: %{customdata[5]}\")\n",
    "fig.update_traces(textfont_size=8)\n",
    "fig.write_html(\"out/tsne_h.html\", include_plotlyjs=\"cdn\")\n",
    "fig.write_image(\"out/tsne_h.png\", engine=\"kaleido\",scale=15)"
   ]
  },
  {
   "cell_type": "markdown",
   "metadata": {},
   "source": [
    "### By Dominant Mode"
   ]
  },
  {
   "cell_type": "code",
   "execution_count": null,
   "metadata": {},
   "outputs": [],
   "source": [
    "ggplot(df_mapping, aes(x=\"x\", y=\"y\", label=\"M\")) + geom_point(aes(colour=\"dominant\", size=\"Doop\")) + geom_text(size=6)"
   ]
  },
  {
   "cell_type": "code",
   "execution_count": null,
   "metadata": {},
   "outputs": [],
   "source": [
    "fig = px.scatter(df_mapping, x=\"x\", y=\"y\", color=\"dominant\", size=\"Doop\", text=\"M\", custom_data=[\"M\", \"Ligand\", \"Axial\", \"Coord_No\", \"No_Subs\",  \"Doop\", \"CCDC\", \"dominant\"], width=900, height=600)\n",
    "fig.update_traces(hovertemplate=\"CCDC: %{customdata[6]}<br>%{customdata[0]} %{customdata[1]} %{customdata[2]} <br>Coordination Number: %{customdata[3]} <br>%{customdata[7]}<br>Doop: %{customdata[5]}\")\n",
    "fig.update_traces(textfont_size=8)\n",
    "fig.write_html(\"out/tsne_dominant.html\", include_plotlyjs=\"cdn\")\n",
    "fig.write_image(\"out/tsne_dominant.png\", engine=\"kaleido\",scale=15)"
   ]
  },
  {
   "cell_type": "markdown",
   "metadata": {},
   "source": [
    "### By Group"
   ]
  },
  {
   "cell_type": "code",
   "execution_count": null,
   "metadata": {},
   "outputs": [],
   "source": [
    "ggplot(df_mapping, aes(x=\"x\", y=\"y\", label=\"M\")) + geom_point(aes(colour=\"Group\", size=\"Doop\")) + geom_text(size=6)"
   ]
  },
  {
   "cell_type": "code",
   "execution_count": null,
   "metadata": {},
   "outputs": [],
   "source": [
    "color = \"Group\"\n",
    "df_mapping.sort_values(by=color, key=lambda x: np.argsort(index_natsorted(df_mapping[color])), inplace=True)\n",
    "fig = px.scatter(df_mapping, x=\"x\", y=\"y\", color=color, size=\"Doop\", text=\"M\", custom_data=[\"M\", \"Ligand\", \"Axial\", \"Coord_No\", \"No_Subs\",  \"Doop\", \"CCDC\", \"dominant\"], width=900, height=600)\n",
    "fig.update_traces(hovertemplate=\"CCDC: %{customdata[6]}<br>%{customdata[0]} %{customdata[1]} %{customdata[2]} <br>Coordination Number: %{customdata[3]} <br>%{customdata[7]}<br>Doop: %{customdata[5]}\")\n",
    "fig.update_traces(textfont_size=8)\n",
    "fig.write_html(\"out/tsne_group.html\")"
   ]
  },
  {
   "cell_type": "markdown",
   "metadata": {},
   "source": [
    "### By Category"
   ]
  },
  {
   "cell_type": "code",
   "execution_count": null,
   "metadata": {},
   "outputs": [],
   "source": [
    "ggplot(df_mapping, aes(x=\"x\", y=\"y\", label=\"M\")) + geom_point(aes(colour=\"category\", size=\"Doop\")) + geom_text(size=6)"
   ]
  },
  {
   "cell_type": "code",
   "execution_count": null,
   "metadata": {},
   "outputs": [],
   "source": [
    "color = \"category\"\n",
    "df_mapping.sort_values(by=color, key=lambda x: np.argsort(index_natsorted(df_mapping[color])), inplace=True)\n",
    "fig = px.scatter(df_mapping, x=\"x\", y=\"y\", color=color, size=\"Doop\", text=\"M\", custom_data=[\"M\", \"Ligand\", \"Axial\", \"Coord_No\", \"No_Subs\",  \"Doop\", \"CCDC\", \"dominant\"], width=900, height=600)\n",
    "fig.update_traces(hovertemplate=\"CCDC: %{customdata[6]}<br>%{customdata[0]} %{customdata[1]} %{customdata[2]} <br>Coordination Number: %{customdata[3]} <br>%{customdata[7]}<br>Doop: %{customdata[5]}\")\n",
    "fig.update_traces(textfont_size=8)\n",
    "\n",
    "fig.write_html(\"out/tsne_category.html\")\n"
   ]
  },
  {
   "cell_type": "markdown",
   "metadata": {},
   "source": [
    "### By Coordination Number"
   ]
  },
  {
   "cell_type": "code",
   "execution_count": null,
   "metadata": {},
   "outputs": [],
   "source": [
    "ggplot(df_mapping, aes(x=\"x\", y=\"y\", label=\"M\")) + geom_point(aes(colour=\"Coord_No\", size=\"Doop\")) + geom_text(size=6)"
   ]
  },
  {
   "cell_type": "code",
   "execution_count": null,
   "metadata": {},
   "outputs": [],
   "source": [
    "color = \"Coord_No\"\n",
    "df_mapping.sort_values(by=color, key=lambda x: np.argsort(index_natsorted(df_mapping[color])), inplace=True)\n",
    "df_mapping[color] = df_mapping[color].astype(str)\n",
    "fig = px.scatter(df_mapping, x=\"x\", y=\"y\", color=color, size=\"Doop\", text=\"M\", custom_data=[\"M\", \"Ligand\", \"Axial\", \"Coord_No\", \"No_Subs\",  \"Doop\", \"CCDC\", \"dominant\"], width=900, height=600)\n",
    "fig.update_traces(hovertemplate=\"CCDC: %{customdata[6]}<br>%{customdata[0]} %{customdata[1]} %{customdata[2]} <br>Coordination Number: %{customdata[3]} <br>%{customdata[7]}<br>Doop: %{customdata[5]}\")\n",
    "fig.update_traces(textfont_size=8)\n",
    "\n",
    "fig.write_html(\"out/tsne_coordNo.html\")\n"
   ]
  },
  {
   "cell_type": "code",
   "execution_count": null,
   "metadata": {},
   "outputs": [],
   "source": [
    "ggplot(df_mapping, aes(x=\"x\", y=\"y\", label=\"M\")) + geom_point(aes(colour=\"No_Subs\", size=\"Doop\")) + geom_text(size=6)"
   ]
  },
  {
   "cell_type": "code",
   "execution_count": null,
   "metadata": {},
   "outputs": [],
   "source": [
    "color = \"No_Subs\"\n",
    "df_mapping.sort_values(by=color, key=lambda x: np.argsort(index_natsorted(df_mapping[color])), inplace=True)\n",
    "df_mapping[color] = df_mapping[color].astype(str)\n",
    "fig = px.scatter(df_mapping, x=\"x\", y=\"y\", color=color, size=\"Doop\", text=\"M\", custom_data=[\"M\", \"Ligand\", \"Axial\", \"Coord_No\", \"No_Subs\",  \"Doop\", \"CCDC\", \"dominant\"], width=900, height=600)\n",
    "fig.update_traces(hovertemplate=\"CCDC: %{customdata[6]}<br>%{customdata[0]} %{customdata[1]} %{customdata[2]} <br>Coordination Number: %{customdata[3]} <br>%{customdata[7]}<br>Doop: %{customdata[5]}\")\n",
    "fig.update_traces(textfont_size=8)\n",
    "\n",
    "fig.write_html(\"out/tsne_NoSubs.html\")\n"
   ]
  }
 ],
 "metadata": {
  "interpreter": {
   "hash": "ad2bdc8ecc057115af97d19610ffacc2b4e99fae6737bb82f5d7fb13d2f2c186"
  },
  "kernelspec": {
   "display_name": "Python 3.9.7 ('base')",
   "language": "python",
   "name": "python3"
  },
  "language_info": {
   "codemirror_mode": {
    "name": "ipython",
    "version": 3
   },
   "file_extension": ".py",
   "mimetype": "text/x-python",
   "name": "python",
   "nbconvert_exporter": "python",
   "pygments_lexer": "ipython3",
   "version": "3.9.7"
  }
 },
 "nbformat": 4,
 "nbformat_minor": 2
}
