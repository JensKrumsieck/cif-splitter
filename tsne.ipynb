{
 "cells": [
  {
   "cell_type": "code",
   "execution_count": null,
   "metadata": {},
   "outputs": [],
   "source": [
    "! pip install plotnine\n",
    "! pip install ipympl\n",
    "! pip install plotly\n",
    "! pip install natsort"
   ]
  },
  {
   "cell_type": "code",
   "execution_count": null,
   "metadata": {},
   "outputs": [],
   "source": [
    "%matplotlib widget"
   ]
  },
  {
   "cell_type": "code",
   "execution_count": null,
   "metadata": {},
   "outputs": [],
   "source": [
    "import pandas as pd\n",
    "from plotnine import *\n",
    "import plotly.express as px\n",
    "from natsort import index_natsorted\n",
    "import numpy as np\n",
    "from util.datasource import anything, corroles\n",
    "from util.analysis import ext_modes, plot_selector, perc_comp, perc_ext"
   ]
  },
  {
   "cell_type": "code",
   "execution_count": null,
   "metadata": {},
   "outputs": [],
   "source": [
    "df = corroles.dataFrame\n",
    "df[\"dominant\"] = df[plot_selector].idxmax(axis=1)"
   ]
  },
  {
   "cell_type": "markdown",
   "metadata": {},
   "source": [
    "### Select only direct porphystruct output"
   ]
  },
  {
   "cell_type": "code",
   "execution_count": null,
   "metadata": {},
   "outputs": [],
   "source": [
    "from sklearn.compose import ColumnTransformer\n",
    "from sklearn.pipeline import Pipeline\n",
    "from sklearn.impute import SimpleImputer\n",
    "from sklearn.preprocessing import StandardScaler\n",
    "from sklearn.manifold import TSNE "
   ]
  },
  {
   "cell_type": "code",
   "execution_count": null,
   "metadata": {},
   "outputs": [],
   "source": [
    "preprocess = ColumnTransformer(\n",
    "    transformers = [\n",
    "        (\"prepocess_ext\", Pipeline(\n",
    "            steps=[\n",
    "                ('imputer', SimpleImputer(strategy=\"constant\", fill_value=0)),\n",
    "                (\"scaler\", StandardScaler())\n",
    "            ]\n",
    "        ), perc_ext + [\"Doop (exp.)\"])\n",
    "    ], sparse_threshold=0)"
   ]
  },
  {
   "cell_type": "code",
   "execution_count": null,
   "metadata": {},
   "outputs": [],
   "source": [
    "tsne = TSNE(n_components=2, random_state=91, perplexity=50)\n",
    "mapping = tsne.fit_transform(preprocess.fit_transform(df))"
   ]
  },
  {
   "cell_type": "code",
   "execution_count": null,
   "metadata": {},
   "outputs": [],
   "source": [
    "df_mapping = pd.DataFrame(mapping, columns=[\"x\", \"y\"])\n",
    "df_mapping[\"category\"] = df[\"category\"]\n",
    "df_mapping[\"M\"] = df[\"M\"]\n",
    "df_mapping[\"Doop\"] = df[\"Doop (exp.)\"]\n",
    "df_mapping[\"Coord_No\"] = df[\"Coord_No\"]\n",
    "df_mapping[\"No_Subs\"] = df[\"No_Subs\"]\n",
    "df_mapping[\"Group\"] =  df[\"Group\"].astype(str)\n",
    "df_mapping[\"dominant\"] = df[\"dominant\"]\n",
    "df_mapping[\"Ligand\"] = df[\"Ligand\"]\n",
    "df_mapping[\"Axial\"] = df[\"Axial\"]\n",
    "df_mapping[\"CCDC\"] = df[\"CCDC\"]"
   ]
  },
  {
   "cell_type": "markdown",
   "metadata": {},
   "source": [
    "### By Dominant Mode"
   ]
  },
  {
   "cell_type": "code",
   "execution_count": null,
   "metadata": {},
   "outputs": [],
   "source": [
    "ggplot(df_mapping, aes(x=\"x\", y=\"y\", label=\"M\")) + geom_point(aes(colour=\"dominant\", size=\"Doop\")) + geom_text(size=6)"
   ]
  },
  {
   "cell_type": "code",
   "execution_count": null,
   "metadata": {},
   "outputs": [],
   "source": [
    "fig = px.scatter(df_mapping, x=\"x\", y=\"y\", color=\"dominant\", size=\"Doop\", text=\"M\", custom_data=[\"M\", \"Ligand\", \"Axial\", \"Coord_No\", \"No_Subs\",  \"Doop\", \"CCDC\", \"dominant\"], width=900, height=600)\n",
    "fig.update_traces(hovertemplate=\"CCDC: %{customdata[6]}<br>%{customdata[0]} %{customdata[1]} %{customdata[2]} <br>Coordination Number: %{customdata[3]} <br>%{customdata[7]}<br>Doop: %{customdata[5]}\")\n",
    "fig.update_traces(textfont_size=8)\n"
   ]
  },
  {
   "cell_type": "markdown",
   "metadata": {},
   "source": [
    "### By Group"
   ]
  },
  {
   "cell_type": "code",
   "execution_count": null,
   "metadata": {},
   "outputs": [],
   "source": [
    "ggplot(df_mapping, aes(x=\"x\", y=\"y\", label=\"M\")) + geom_point(aes(colour=\"Group\", size=\"Doop\")) + geom_text(size=6)"
   ]
  },
  {
   "cell_type": "code",
   "execution_count": null,
   "metadata": {},
   "outputs": [],
   "source": [
    "color = \"Group\"\n",
    "df_mapping.sort_values(by=color, key=lambda x: np.argsort(index_natsorted(df_mapping[color])), inplace=True)\n",
    "fig = px.scatter(df_mapping, x=\"x\", y=\"y\", color=color, size=\"Doop\", text=\"M\", custom_data=[\"M\", \"Ligand\", \"Axial\", \"Coord_No\", \"No_Subs\",  \"Doop\", \"CCDC\", \"dominant\"], width=900, height=600)\n",
    "fig.update_traces(hovertemplate=\"CCDC: %{customdata[6]}<br>%{customdata[0]} %{customdata[1]} %{customdata[2]} <br>Coordination Number: %{customdata[3]} <br>%{customdata[7]}<br>Doop: %{customdata[5]}\")\n",
    "fig.update_traces(textfont_size=8)\n"
   ]
  },
  {
   "cell_type": "markdown",
   "metadata": {},
   "source": [
    "### By Category"
   ]
  },
  {
   "cell_type": "code",
   "execution_count": null,
   "metadata": {},
   "outputs": [],
   "source": [
    "ggplot(df_mapping, aes(x=\"x\", y=\"y\", label=\"M\")) + geom_point(aes(colour=\"category\", size=\"Doop\")) + geom_text(size=6)"
   ]
  },
  {
   "cell_type": "code",
   "execution_count": null,
   "metadata": {},
   "outputs": [],
   "source": [
    "color = \"category\"\n",
    "df_mapping.sort_values(by=color, key=lambda x: np.argsort(index_natsorted(df_mapping[color])), inplace=True)\n",
    "fig = px.scatter(df_mapping, x=\"x\", y=\"y\", color=color, size=\"Doop\", text=\"M\", custom_data=[\"M\", \"Ligand\", \"Axial\", \"Coord_No\", \"No_Subs\",  \"Doop\", \"CCDC\", \"dominant\"], width=900, height=600)\n",
    "fig.update_traces(hovertemplate=\"CCDC: %{customdata[6]}<br>%{customdata[0]} %{customdata[1]} %{customdata[2]} <br>Coordination Number: %{customdata[3]} <br>%{customdata[7]}<br>Doop: %{customdata[5]}\")\n",
    "fig.update_traces(textfont_size=8)\n"
   ]
  },
  {
   "cell_type": "markdown",
   "metadata": {},
   "source": [
    "### By Coordination Number"
   ]
  },
  {
   "cell_type": "code",
   "execution_count": null,
   "metadata": {},
   "outputs": [],
   "source": [
    "ggplot(df_mapping, aes(x=\"x\", y=\"y\", label=\"M\")) + geom_point(aes(colour=\"Coord_No\", size=\"Doop\")) + geom_text(size=6)"
   ]
  },
  {
   "cell_type": "code",
   "execution_count": null,
   "metadata": {},
   "outputs": [],
   "source": [
    "color = \"Coord_No\"\n",
    "df_mapping.sort_values(by=color, key=lambda x: np.argsort(index_natsorted(df_mapping[color])), inplace=True)\n",
    "df_mapping[color] = df_mapping[color].astype(str)\n",
    "fig = px.scatter(df_mapping, x=\"x\", y=\"y\", color=color, size=\"Doop\", text=\"M\", custom_data=[\"M\", \"Ligand\", \"Axial\", \"Coord_No\", \"No_Subs\",  \"Doop\", \"CCDC\", \"dominant\"], width=900, height=600)\n",
    "fig.update_traces(hovertemplate=\"CCDC: %{customdata[6]}<br>%{customdata[0]} %{customdata[1]} %{customdata[2]} <br>Coordination Number: %{customdata[3]} <br>%{customdata[7]}<br>Doop: %{customdata[5]}\")\n",
    "fig.update_traces(textfont_size=8)\n"
   ]
  },
  {
   "cell_type": "code",
   "execution_count": null,
   "metadata": {},
   "outputs": [],
   "source": [
    "ggplot(df_mapping, aes(x=\"x\", y=\"y\", label=\"M\")) + geom_point(aes(colour=\"No_Subs\", size=\"Doop\")) + geom_text(size=6)"
   ]
  },
  {
   "cell_type": "code",
   "execution_count": null,
   "metadata": {},
   "outputs": [],
   "source": [
    "color = \"No_Subs\"\n",
    "df_mapping.sort_values(by=color, key=lambda x: np.argsort(index_natsorted(df_mapping[color])), inplace=True)\n",
    "df_mapping[color] = df_mapping[color].astype(str)\n",
    "fig = px.scatter(df_mapping, x=\"x\", y=\"y\", color=color, size=\"Doop\", text=\"M\", custom_data=[\"M\", \"Ligand\", \"Axial\", \"Coord_No\", \"No_Subs\",  \"Doop\", \"CCDC\", \"dominant\"], width=900, height=600)\n",
    "fig.update_traces(hovertemplate=\"CCDC: %{customdata[6]}<br>%{customdata[0]} %{customdata[1]} %{customdata[2]} <br>Coordination Number: %{customdata[3]} <br>%{customdata[7]}<br>Doop: %{customdata[5]}\")\n",
    "fig.update_traces(textfont_size=8)\n"
   ]
  }
 ],
 "metadata": {
  "interpreter": {
   "hash": "96eb50e1d44aed467dc8f759cb08c32fbfa9babcf79c554e2d0e5feb04653a10"
  },
  "kernelspec": {
   "display_name": "Python 3.9.7 ('base')",
   "language": "python",
   "name": "python3"
  },
  "language_info": {
   "codemirror_mode": {
    "name": "ipython",
    "version": 3
   },
   "file_extension": ".py",
   "mimetype": "text/x-python",
   "name": "python",
   "nbconvert_exporter": "python",
   "pygments_lexer": "ipython3",
   "version": "3.9.7"
  }
 },
 "nbformat": 4,
 "nbformat_minor": 2
}
