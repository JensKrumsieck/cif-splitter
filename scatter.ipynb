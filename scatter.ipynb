{
 "cells": [
  {
   "cell_type": "code",
   "execution_count": null,
   "metadata": {},
   "outputs": [],
   "source": [
    "import numpy as np\n",
    "import pandas as pd\n",
    "from data import constants, datautil\n",
    "from mathutil import comp, percentage, groupBy"
   ]
  },
  {
   "cell_type": "code",
   "execution_count": null,
   "metadata": {},
   "outputs": [],
   "source": [
    "df = pd.read_excel(r\"C:\\Users\\jenso\\PowerFolders\\Forschung\\CSD Data Mining\\Results.xlsx\")\n",
    "df.replace(r'^\\s*$', np.nan, regex=True, inplace=True)\n",
    "cr_bro = pd.read_excel(r\"C:\\Users\\jenso\\PowerFolders\\Forschung\\CSD Data Mining - Chromyl\\Results.xlsx\")\n",
    "df = pd.concat([df, cr_bro])\n",
    "# dataset = df.loc[((df[\"Type\"] == \"Norcorrole\") & (df[\"Class\"] != \"Corrole\")) | (df[\"Type\"] == \"Corrole\")]# & (df[\"Class\"] == \"Corrole\")]\n",
    "dataset = df.loc[(df[\"Type\"] != \"Porphyrin\")]\n",
    "dataset.reset_index(drop=True, inplace=True)\n",
    "dataset = percentage.createPercData(dataset)\n",
    "dataset = comp.createCompData(dataset)\n",
    "dataset = percentage.createCompPercData(dataset)\n",
    "# dataset[\"dominant\"] = dataset[constants.compColumns].idxmax(axis=1)\n",
    "len(dataset)"
   ]
  },
  {
   "cell_type": "code",
   "execution_count": null,
   "metadata": {},
   "outputs": [],
   "source": [
    "from matplotlib import pyplot as plt\n",
    "from plotutil.misc import cm_to_inch\n",
    "import matplotlib\n",
    "! pip install SciencePlots"
   ]
  },
  {
   "cell_type": "code",
   "execution_count": null,
   "metadata": {},
   "outputs": [],
   "source": [
    "plt.style.use(['science', 'nature', 'no-latex'])\n",
    "plt.rcParams[\"figure.figsize\"] = (cm_to_inch(16), cm_to_inch(13))\n",
    "plt.rcParams[\"figure.dpi\"] = 1200\n",
    "plt.rcParams[\"axes.labelsize\"] = 11\n",
    "plt.rcParams[\"axes.titlesize\"] = 9\n",
    "plt.rcParams[\"xtick.labelsize\"] = 9\n",
    "plt.rcParams[\"ytick.labelsize\"] = 9\n",
    "plt.rcParams[\"font.family\"] = \"Arial\""
   ]
  },
  {
   "cell_type": "code",
   "execution_count": null,
   "metadata": {},
   "outputs": [],
   "source": [
    "! pip install plotnine\n",
    "! pip install natsort\n",
    "! pip install -U kaleido\n",
    "! pip install plotly\n",
    "\n",
    "import plotly.express as px\n",
    "from natsort import index_natsorted\n",
    "import plotly.express as px\n",
    "from plotnine import *\n",
    "import plotly.io as pio\n",
    "import plotly\n",
    "plotly.__version__ #5.6.0\n",
    "import kaleido #required\n",
    "kaleido.__version__ #0.2.1"
   ]
  },
  {
   "cell_type": "code",
   "execution_count": null,
   "metadata": {},
   "outputs": [],
   "source": [
    "from plotutil import scatter\n",
    "from plotutil import periodictable"
   ]
  },
  {
   "cell_type": "code",
   "execution_count": null,
   "metadata": {},
   "outputs": [],
   "source": [
    "dataset.columns"
   ]
  },
  {
   "cell_type": "code",
   "execution_count": null,
   "metadata": {},
   "outputs": [],
   "source": [
    "# dataset = datautil.applyAllSubclasses(dataset)\n",
    "# dataset[\"Subclass\"] = dataset.apply(lambda x:\n",
    "#     \"Kupfercorrole\" if x[\"Subclass\"] == \"Übergangsmetallcorrole\" and x[\"Metal\"] == \"Cu\"\n",
    "#     else x[\"Subclass\"]\n",
    "# ,axis=1)"
   ]
  },
  {
   "cell_type": "code",
   "execution_count": null,
   "metadata": {},
   "outputs": [],
   "source": [
    "mode = \"Doming\"\n",
    "dataset[\"x\"] = np.abs(dataset[f\"{mode}1\"])\n",
    "dataset[\"y\"] = np.sign(dataset[f\"{mode}1\"]) * dataset[f\"{mode}2\"]\n",
    "dataset[\"M2N4\"] = np.abs(dataset[\"MetalToN4\"])\n",
    "m3d = periodictable.m3d.copy()\n",
    "groups = [\"1\",\"2\",\"3\",\"4\",\"5\",\"6\",\"7\",\"8\",\"9\",\"10\",\"11\",\"12\",\"13\",\"14\",\"15\",\"Ln\"]\n",
    "subst = range(0,15)\n",
    "subclasses = list(constants.colors_to_subgroup.keys())\n",
    "# groups = [\"Fe\",\"Mn\", \"Tc\", \"Re\", \"Ru\", \"Os\"]\n",
    "fig,ax = scatter.plot(dataset, \"x\", \"y\", [0,1,2,3,4,5,6,7,8,9,10,11,12,13], \"CoordNo\", constants.colors_classes, \n",
    "x_label=f\"|{mode}1|\", y_label=f\"{mode}2 $\\cdot$ sign({mode}1)\")\n",
    "ax.legend(bbox_to_anchor=(1.35,1), loc=1)"
   ]
  }
 ],
 "metadata": {
  "language_info": {
   "name": "python"
  }
 },
 "nbformat": 4,
 "nbformat_minor": 2
}
