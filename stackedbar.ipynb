{
 "cells": [
  {
   "cell_type": "code",
   "execution_count": null,
   "metadata": {},
   "outputs": [],
   "source": [
    "import pandas as pd\n",
    "from data import constants\n",
    "from mathutil import comp, percentage, analyze\n",
    "from plotutil import stackedbar\n",
    "from mathutil.analyze import groupBy\n",
    "import numpy as np"
   ]
  },
  {
   "cell_type": "code",
   "execution_count": null,
   "metadata": {},
   "outputs": [],
   "source": [
    "df = pd.read_excel(r\"C:\\Users\\jenso\\PowerFolders\\Forschung\\CSD Data Mining\\Results.xlsx\")\n",
    "df.fillna(\"\", inplace=True)\n",
    "dataset = df.loc[(df[\"Type\"] == \"Corrole\") & (df[\"Class\"] == \"Corrole\")]\n",
    "# dataset = df.loc[(df[\"Type\"] !=  \"Porphyrin\")]\n",
    "dataset.reset_index(drop=True, inplace=True)\n",
    "dataset = percentage.createPercData(dataset)\n",
    "dataset = comp.createCompData(dataset)\n",
    "dataset = percentage.createCompPercData(dataset)\n",
    "dataset[\"dominant\"] = dataset[constants.compColumns].idxmax(axis=1)\n",
    "len(dataset)"
   ]
  },
  {
   "cell_type": "code",
   "execution_count": null,
   "metadata": {},
   "outputs": [],
   "source": [
    "from matplotlib import pyplot as plt\n",
    "from plotutil.misc import cm_to_inch\n",
    "import matplotlib\n",
    "! pip install SciencePlots\n",
    "! pip install natsort\n",
    "from natsort import index_natsorted"
   ]
  },
  {
   "cell_type": "code",
   "execution_count": null,
   "metadata": {},
   "outputs": [],
   "source": [
    "plt.style.use(['science', 'nature', 'no-latex'])\n",
    "plt.rcParams[\"figure.figsize\"] = (cm_to_inch(16), cm_to_inch(13))\n",
    "plt.rcParams[\"figure.dpi\"] = 1200\n",
    "plt.rcParams[\"axes.labelsize\"] = 11\n",
    "plt.rcParams[\"axes.titlesize\"] = 9\n",
    "plt.rcParams[\"xtick.labelsize\"] = 9\n",
    "plt.rcParams[\"ytick.labelsize\"] = 9\n",
    "plt.rcParams[\"font.family\"] = \"Arial\""
   ]
  },
  {
   "cell_type": "code",
   "execution_count": null,
   "metadata": {},
   "outputs": [],
   "source": [
    "dataset.columns"
   ]
  },
  {
   "cell_type": "code",
   "execution_count": null,
   "metadata": {},
   "outputs": [],
   "source": [
    "by = \"Group\"\n",
    "# group = groupBy(dataset, constants.percCompColumns, by)\n",
    "group = groupBy(dataset, constants.percColumns, by)\n",
    "group.sort_index(key=lambda x: np.argsort(index_natsorted(group.index)), inplace=True)\n",
    "# group = group.loc[(group.index >= 4) & (group.index <=6)]\n",
    "# stackedbar.plot(group, constants.x_axis_labels[by], constants.compColumns, print_legend=True, ncol=2)\n",
    "stackedbar.plot(group, constants.x_axis_labels[by], constants.analysisColumns, print_legend=True, ncol=2)"
   ]
  }
 ],
 "metadata": {
  "kernelspec": {
   "display_name": "Python 3.9.7 ('base')",
   "language": "python",
   "name": "python3"
  },
  "language_info": {
   "codemirror_mode": {
    "name": "ipython",
    "version": 3
   },
   "file_extension": ".py",
   "mimetype": "text/x-python",
   "name": "python",
   "nbconvert_exporter": "python",
   "pygments_lexer": "ipython3",
   "version": "3.9.7"
  },
  "orig_nbformat": 4,
  "vscode": {
   "interpreter": {
    "hash": "ad2bdc8ecc057115af97d19610ffacc2b4e99fae6737bb82f5d7fb13d2f2c186"
   }
  }
 },
 "nbformat": 4,
 "nbformat_minor": 2
}
